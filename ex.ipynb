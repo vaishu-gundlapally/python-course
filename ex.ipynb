{
 "cells": [
  {
   "cell_type": "code",
   "execution_count": 1,
   "metadata": {},
   "outputs": [
    {
     "name": "stdout",
     "output_type": "stream",
     "text": [
      "hello\n"
     ]
    }
   ],
   "source": [
    "print(\"hello\")\n"
   ]
  },
  {
   "cell_type": "code",
   "execution_count": null,
   "metadata": {},
   "outputs": [],
   "source": [
    "a=10\n",
    "b=20\n",
    "print(a)\n",
    "print(b)\n",
    "print(type(a))\n",
    "print(id(a))\n",
    "print(type(b))"
   ]
  },
  {
   "cell_type": "code",
   "execution_count": null,
   "metadata": {},
   "outputs": [],
   "source": [
    "a='string'\n",
    "print(type(a))"
   ]
  },
  {
   "cell_type": "code",
   "execution_count": null,
   "metadata": {},
   "outputs": [],
   "source": [
    "a=0.3\n",
    "print(type(a))\n",
    "print(id(a))"
   ]
  },
  {
   "cell_type": "code",
   "execution_count": null,
   "metadata": {},
   "outputs": [],
   "source": [
    "a1=[10,44.4,'abf',123,56]\n",
    "print(a1)\n",
    "print(a1[4])\n",
    "a1.append(39)\n",
    "print(a1)\n",
    "a1.insert(3,'vaish')\n",
    "print(a1)"
   ]
  },
  {
   "cell_type": "code",
   "execution_count": null,
   "metadata": {},
   "outputs": [],
   "source": [
    "a1=[10,44.4,'abf',123,56]\n",
    "a1.pop(3)  # removes at specified index position\n",
    "print(a1)\n",
    "\n"
   ]
  },
  {
   "cell_type": "code",
   "execution_count": null,
   "metadata": {},
   "outputs": [],
   "source": [
    "a1=[10,44.4,'abf',123,56.3]\n",
    "# remove\n",
    "a1.remove('abf')\n",
    "print(a1)"
   ]
  },
  {
   "cell_type": "code",
   "execution_count": null,
   "metadata": {},
   "outputs": [],
   "source": [
    "#reverse\n",
    "a2=[10,44.4,123,56]\n",
    "a2.sort(reverse=False)\n",
    "print(a2)"
   ]
  },
  {
   "cell_type": "code",
   "execution_count": null,
   "metadata": {},
   "outputs": [],
   "source": [
    "#length\n",
    "a1=[10,44.4,123,56]\n",
    "a1.copy()\n",
    "print(a1)\n",
    "print(len(a1))"
   ]
  },
  {
   "cell_type": "code",
   "execution_count": null,
   "metadata": {},
   "outputs": [],
   "source": [
    "#count\n",
    "a2=[10,44.4,123,56,10]\n",
    "a1.count(10)\n",
    "a1.index(10)"
   ]
  },
  {
   "cell_type": "code",
   "execution_count": null,
   "metadata": {},
   "outputs": [],
   "source": [
    "## tuple\n",
    "a1=(10,44.4,'abf',123,56)\n",
    "print(a1)\n",
    "print(type(a1))"
   ]
  },
  {
   "cell_type": "code",
   "execution_count": null,
   "metadata": {},
   "outputs": [],
   "source": [
    "a1=(10,44.4,'abf',123,56)\n",
    "print(a1.count(10))\n",
    "q=a1.index(123)\n",
    "print(q)"
   ]
  },
  {
   "cell_type": "code",
   "execution_count": null,
   "metadata": {},
   "outputs": [],
   "source": [
    "# dictionary\n",
    "d={1:'a',2:'b',3:'c'}\n",
    "print(d)\n",
    "print(d[1])\n",
    "## or\n",
    "print(d.get(3))\n",
    "\n",
    "# to update\n",
    "d[1]='aa'\n",
    "print(d)\n",
    "print(d.keys())\n",
    "print(d.values())\n",
    "print(d.items())"
   ]
  },
  {
   "cell_type": "code",
   "execution_count": null,
   "metadata": {},
   "outputs": [],
   "source": [
    "# for loop\n",
    "f=[1,2,3,4,5,6,7]\n",
    "for i in f:\n",
    "  print(i)\n"
   ]
  },
  {
   "cell_type": "code",
   "execution_count": null,
   "metadata": {},
   "outputs": [],
   "source": [
    "# while loop\n",
    "f=[1,2,3,4,5,6,7]\n",
    "i=0\n",
    "while i<len(f):\n",
    "  print(f[i])\n",
    "  i+=1\n"
   ]
  },
  {
   "cell_type": "code",
   "execution_count": null,
   "metadata": {},
   "outputs": [],
   "source": [
    "# if else conditions\n",
    "a=10\n",
    "b=20\n",
    "if a>b:\n",
    "  print(\"greater\")\n",
    "elif a==b:\n",
    "  print(\"equal\")\n",
    "else:\n",
    "  print(\"less\")"
   ]
  },
  {
   "cell_type": "code",
   "execution_count": null,
   "metadata": {},
   "outputs": [],
   "source": [
    "f=[1,2,3,4,5,6,7]\n",
    "for i in range(0,len(f),2):\n",
    "  print(f[i])"
   ]
  },
  {
   "cell_type": "code",
   "execution_count": 2,
   "metadata": {},
   "outputs": [
    {
     "name": "stdout",
     "output_type": "stream",
     "text": [
      "5\n"
     ]
    }
   ],
   "source": [
    "def add(a,b):\n",
    "    print(a+b)\n",
    "add(2,3)"
   ]
  },
  {
   "cell_type": "code",
   "execution_count": null,
   "metadata": {},
   "outputs": [],
   "source": []
  }
 ],
 "metadata": {
  "kernelspec": {
   "display_name": "Python 3",
   "language": "python",
   "name": "python3"
  },
  "language_info": {
   "codemirror_mode": {
    "name": "ipython",
    "version": 3
   },
   "file_extension": ".py",
   "mimetype": "text/x-python",
   "name": "python",
   "nbconvert_exporter": "python",
   "pygments_lexer": "ipython3",
   "version": "3.12.3"
  }
 },
 "nbformat": 4,
 "nbformat_minor": 2
}
