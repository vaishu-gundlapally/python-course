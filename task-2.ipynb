{
 "cells": [
  {
   "cell_type": "code",
   "execution_count": 2,
   "metadata": {},
   "outputs": [
    {
     "name": "stdout",
     "output_type": "stream",
     "text": [
      "21\n"
     ]
    }
   ],
   "source": [
    "#Write a program with a function that the function will multiply the number N with three. \n",
    "def mult(n):\n",
    "    return n*3\n",
    "n=int(input())\n",
    "print(mult(n))"
   ]
  },
  {
   "cell_type": "code",
   "execution_count": 1,
   "metadata": {},
   "outputs": [
    {
     "name": "stdout",
     "output_type": "stream",
     "text": [
      "False\n",
      "None\n"
     ]
    }
   ],
   "source": [
    "#Write a program with a function that the function will check if the number N is divisible by 7. \n",
    "def chk(n):\n",
    "    if n%7==0:\n",
    "        print(\"True\")\n",
    "    else:\n",
    "        print(\"False\")\n",
    "n=int(input())\n",
    "print(chk(n))"
   ]
  },
  {
   "cell_type": "code",
   "execution_count": 4,
   "metadata": {},
   "outputs": [
    {
     "name": "stdout",
     "output_type": "stream",
     "text": [
      "No\n",
      "None\n"
     ]
    }
   ],
   "source": [
    "#Write a function that takes a number N as an argument. \n",
    "#Write a program that checks if N is between 200 and 500. \n",
    "#Print Yes if N is between 200 and 500. Otherwise, print No. \n",
    "def fun(n):\n",
    "    if n>=200 and n<=500:\n",
    "        print(\"Yes\")\n",
    "    else:\n",
    "        print(\"No\")\n",
    "n=int(input())\n",
    "print(fun(n))"
   ]
  },
  {
   "cell_type": "code",
   "execution_count": 8,
   "metadata": {},
   "outputs": [
    {
     "name": "stdout",
     "output_type": "stream",
     "text": [
      "540.0\n"
     ]
    }
   ],
   "source": [
    "#Write a function with the name get_discount that takes the bill amount as an argument. \n",
    "#If the bill amount is less than 500, the discount should be \"5%\". \n",
    "#If the bill amount is greater than or equal to 500 and less than 2500, the discount should be \"10%\" \n",
    "#If the bill amount is greater than or equal to 2500, the discount should be \"20%\" \n",
    "\n",
    "def get_discount(billamt):\n",
    "    if billamt<500:\n",
    "        discount = billamt*0.05\n",
    "    elif billamt>=500 and billamt<2500:\n",
    "        discount = billamt*0.10\n",
    "    else:\n",
    "        discount = billamt*0.2\n",
    "    total = billamt - discount\n",
    "    return total\n",
    "n=int(input())\n",
    "print(get_discount(n))\n"
   ]
  },
  {
   "cell_type": "code",
   "execution_count": 15,
   "metadata": {},
   "outputs": [
    {
     "name": "stdout",
     "output_type": "stream",
     "text": [
      "even numbers: 0\n",
      "odd numbers: 1\n",
      "even numbers: 2\n",
      "odd numbers: 3\n",
      "even numbers: 4\n",
      "odd numbers: 5\n",
      "even numbers: 6\n"
     ]
    }
   ],
   "source": [
    "#Write a function with the name show_number that takes a number N and \n",
    "# print all the numbers from 0 to N with a label to identify the even and odd numbers. \n",
    "\n",
    "def show_number(n):\n",
    "    for i in range(0,n+1):\n",
    "        if i%2==0:\n",
    "            print(\"even numbers:\",i)\n",
    "        else:\n",
    "            print(\"odd numbers:\",i)\n",
    "inp=int(input())\n",
    "show_number(inp)\n"
   ]
  },
  {
   "cell_type": "code",
   "execution_count": 16,
   "metadata": {},
   "outputs": [
    {
     "data": {
      "text/plain": [
       "4"
      ]
     },
     "execution_count": 16,
     "metadata": {},
     "output_type": "execute_result"
    }
   ],
   "source": [
    "#Write a program with a function name as func() to return the value passwd to the function. \n",
    "def func(n):\n",
    "    return n\n",
    "i=int(input())\n",
    "func(i)"
   ]
  },
  {
   "cell_type": "code",
   "execution_count": 18,
   "metadata": {},
   "outputs": [
    {
     "name": "stdout",
     "output_type": "stream",
     "text": [
      "20\n"
     ]
    }
   ],
   "source": [
    "#For the problem , the prefilled code will contain a function. Write a program that the given function will return the perimeter of the square. \n",
    "#The sum of the lengths of the four sides of square is the perimeter of the square. \n",
    "\n",
    "def perimeter_of_square(arg_1): \n",
    "    # Write your code here\n",
    "    return arg_1+arg_1+arg_1+arg_1\n",
    "side = int(input()) \n",
    "result = perimeter_of_square(side) \n",
    "print(result) \n"
   ]
  },
  {
   "cell_type": "code",
   "execution_count": 21,
   "metadata": {},
   "outputs": [
    {
     "name": "stdout",
     "output_type": "stream",
     "text": [
      "25.0\n"
     ]
    }
   ],
   "source": [
    "#A function is given in prefilled code that takes a number N as an argument. \n",
    "#Write a program that checks if N is less than 1000 \n",
    "#Return 5% of the N if N is less than 1000. Otherwise, return 10% of the N. \n",
    "def calculate_percentage(number): \n",
    "    # complete this function\n",
    "    if number<1000:\n",
    "        return number*0.05\n",
    "    else:\n",
    "        return number*0.10\n",
    "number = int(input()) \n",
    "result = calculate_percentage(number)\n",
    "print(result) "
   ]
  },
  {
   "cell_type": "code",
   "execution_count": 22,
   "metadata": {},
   "outputs": [
    {
     "data": {
      "text/plain": [
       "'Over Speed'"
      ]
     },
     "execution_count": 22,
     "metadata": {},
     "output_type": "execute_result"
    }
   ],
   "source": [
    "#Write a function with the name get_speed_status that takes the speed(S) as an argument. \n",
    "#If the speed is less than 60, it should return \"Normal\" \n",
    "#If the speed is greater than or equal to 60 and less than 80, it should return \"Warning\" \n",
    "#If the speed is greater than or equal to 80, it should return \"Over Speed\" \n",
    "def get_speed_status(speed): \n",
    "    # Complete this function \n",
    "    if speed <60:\n",
    "        return \"Normal\"\n",
    "    elif speed>=60 and speed<80:\n",
    "        return \"Warning\"\n",
    "    else:\n",
    "        return \"Over Speed\"\n",
    "speed = int(input()) \n",
    "# Call the get_speed_status function \n",
    "get_speed_status(speed)\n"
   ]
  },
  {
   "cell_type": "code",
   "execution_count": 30,
   "metadata": {},
   "outputs": [
    {
     "name": "stdout",
     "output_type": "stream",
     "text": [
      "6\n"
     ]
    }
   ],
   "source": [
    "#A function is given in prefilled code that takes a string S as an argument. \n",
    "#Write a program that prints the count of uppercase letters in the given string S. \n",
    "def count_of_uppercase(word):\n",
    "    count=0\n",
    "    for i in word:\n",
    "        if i.isupper():\n",
    "            count+=1\n",
    "    return count\n",
    "word = input() \n",
    "result = count_of_uppercase(word)\n",
    "print(result) \n"
   ]
  },
  {
   "cell_type": "code",
   "execution_count": 32,
   "metadata": {},
   "outputs": [
    {
     "data": {
      "text/plain": [
       "False"
      ]
     },
     "execution_count": 32,
     "metadata": {},
     "output_type": "execute_result"
    }
   ],
   "source": [
    "#Write a function with the name validate_atm_pin_code that takes a word as an argument. \n",
    "#ATM PIN is considered only if the given word contains \n",
    "#Exactly 4 or 6 characters \n",
    "#All the characters should be digits \n",
    "#Explanation \n",
    "#For Example \"2345\" is just an number and it is a valid number with digits. \n",
    "#If it is ab4534j then it is not just an number and it is not a valid string. \n",
    "\n",
    "def validate_atm_pin_code(pin):\n",
    "    if len(pin) not in (4,6):\n",
    "        return False\n",
    "    return pin.isdigit()\n",
    "pin = input() \n",
    "validate_atm_pin_code(pin)\n"
   ]
  },
  {
   "cell_type": "code",
   "execution_count": null,
   "metadata": {},
   "outputs": [],
   "source": [
    "# EXCEPTIONS:"
   ]
  },
  {
   "cell_type": "code",
   "execution_count": 58,
   "metadata": {},
   "outputs": [
    {
     "name": "stdout",
     "output_type": "stream",
     "text": [
      "Entered input is not a valid format for an integer.\n"
     ]
    }
   ],
   "source": [
    "#Handle exception in number \n",
    "#Get the input String from user and parse it to integer, if it is not a number it will throw  \n",
    "#number format exception Catch it and print \"Entered input is not a valid format for an integer.\" \n",
    "#or else print the square of that number. (Refer Sample Input and Output).  \n",
    "#Sample input and output 1:  \n",
    "#Enter an integer: 12 \n",
    "#The square value is 144 \n",
    "#The work has been done successfully \n",
    "#Sample input and output 2: \n",
    "#Enter an integer: Java \n",
    "#Entered input is not a valid format for an integer. \n",
    "\n",
    "try:\n",
    "    s=input()\n",
    "    num = int(s)\n",
    "    print(\"The square value is\",num*num)\n",
    "    print(\"The work has been done successfully\")\n",
    "except ValueError:\n",
    "    print(\"Entered input is not a valid format for an integer.\")\n"
   ]
  },
  {
   "cell_type": "code",
   "execution_count": 64,
   "metadata": {},
   "outputs": [
    {
     "name": "stdout",
     "output_type": "stream",
     "text": [
      "enter valid integer for size and index\n"
     ]
    }
   ],
   "source": [
    "# #Write a program that takes as input the size of the array and the elements in the array.  \n",
    "# The program then asks the user to enter a particular index and prints the element at that index.  \n",
    "# Index  starts from zero.  \n",
    "# This program may generate Array Index Out Of Bounds Exception  or NumberFormatException.   \n",
    "# Use exception handling mechanisms to handle this exception.  \n",
    "\n",
    "lst = []\n",
    "try:\n",
    "    n = int(input(\"Enter the number of elements in the array\"))\n",
    "    for i in range(n):\n",
    "        ele = int(input(\"Enter the elements in the array\"))\n",
    "        lst.append(ele)\n",
    "    k=int(input(\"Enter the index of the array element you want to access \"))\n",
    "    ind=lst[k]\n",
    "    print(f\"The element at index {k} is: {ind}\")\n",
    "    print(\"The array element successfully accessed \")\n",
    "except ValueError:\n",
    "    print(\"enter valid integer for size and index\")\n",
    "except IndexError:\n",
    "    print(\"Array Index Out Of Bounds Exception\")\n"
   ]
  },
  {
   "cell_type": "code",
   "execution_count": 23,
   "metadata": {},
   "outputs": [
    {
     "name": "stdout",
     "output_type": "stream",
     "text": [
      "\n",
      "Enter marks for vaish:\n",
      "Error: out of bound\n"
     ]
    }
   ],
   "source": [
    "#Write a Program to take care of Number Format Exception if user enters values other than  \n",
    "# integer for calculating average marks of 2 students. The name of the students and marks  \n",
    "# in 3 subjects are taken from the user while executing the program. \n",
    "# In the same Program write your own Exception classes to take care of Negative values and  \n",
    "# values out of range (i.e. other than in the range of 0-100)\n",
    "\n",
    "class NegativeValueError(Exception):\n",
    "    def __init__(Self,value):\n",
    "        self.value=\"Value cannot be negative\"\n",
    "class OutOfRange(Exception):\n",
    "    def __init__(self,value):\n",
    "        self.value=\"Value out of range (0-100)\"\n",
    "def calavgmarks(marks):\n",
    "    total=sum(marks)\n",
    "    return total/len(marks)\n",
    "\n",
    "def inp_marks(subj):\n",
    "    marks=[]\n",
    "    for i in subj:\n",
    "        while True:\n",
    "            m=int(input())\n",
    "            if m<0:\n",
    "                raise NegativeValueError(\"negative value\")\n",
    "            if m<0 or m>100:\n",
    "                raise OutOfRange(\"out of bound\")\n",
    "            marks.append(m)\n",
    "            break\n",
    "    return marks\n",
    "\n",
    "try:\n",
    "    student1 = input(\"Enter name of student 1: \")\n",
    "    student2 = input(\"Enter name of student 2: \")\n",
    "    print(f\"\\nEnter marks for {student1}:\")\n",
    "    subjects = [\"Subject 1\", \"Subject 2\", \"Subject 3\"]\n",
    "    marks1 = inp_marks(subjects)\n",
    "    avg_marks1 = calavgmarks(marks1)\n",
    "    print(f\"\\nEnter marks for {student2}:\")\n",
    "    marks2 = inp_marks(subjects)\n",
    "    avg_marks2 = calavgmarks(marks2)\n",
    "    print(f\"\\nAverage marks for {student1}: {avg_marks1:.2f}\")\n",
    "    print(f\"Average marks for {student2}: {avg_marks2:.2f}\")\n",
    "except ValueError:\n",
    "    print(\"Invalid input. Please enter valid integer marks.\")\n",
    "except Exception as e:\n",
    "    print(f\"Error: {e}\")"
   ]
  },
  {
   "cell_type": "code",
   "execution_count": 84,
   "metadata": {},
   "outputs": [
    {
     "name": "stdout",
     "output_type": "stream",
     "text": [
      "User Outside India cannot be registered\n"
     ]
    }
   ],
   "source": [
    "# A student portal provides user to register their profile. During registration the system needs  \n",
    "# to validate the user should be located in India. If not the system should throw an exception. \n",
    "# Step 1: Create a user defined exception class named “InvalidCountryException”. \n",
    "# Step 2: Overload the respective constructors. \n",
    "# Step 3: Create a main class “UserRegistration”, add the following method, \n",
    "# registerUser– The parameter are String username,String userCountry and add the following logic, \n",
    "# • if userCountry is not equal to  “India” throw a InvalidCountryException with the message  \n",
    "# “User Outside India  cannot be registered” \n",
    "# • if userCountry is equal to  “India”,  print the message “User registration done successfully” \n",
    "# Invoke the method registerUser from the main method with the data specified and see how the program behaves, \n",
    "# Name Country Expected Output \n",
    "# Mickey US InvalidCountryException should be thrown. \n",
    "#  The message should be “User Outside India  cannot be registered” \n",
    "# Mini India The message should be “User registration done successfully” \n",
    "class InvalidCountry(Exception):\n",
    "    def __init__(self, value=\"User Outside India cannot be registered\"):\n",
    "        self.value = value\n",
    "class UserRegistration:\n",
    "    def registerUser(self, username, userCountry):\n",
    "        try:\n",
    "            if userCountry != \"India\":\n",
    "                raise InvalidCountry\n",
    "            else:\n",
    "                print(\"User registration done successfully\")\n",
    "        except InvalidCountry as e:\n",
    "            print(e.value)\n",
    "registration = UserRegistration()\n",
    "username = input(\"Enter username: \")\n",
    "userCountry = input(\"Enter user's country: \")\n",
    "registration.registerUser(username, userCountry)\n"
   ]
  },
  {
   "cell_type": "code",
   "execution_count": null,
   "metadata": {},
   "outputs": [],
   "source": [
    "#case study\n",
    "# You are given two incomplete classes Car and Truck. \n",
    "# A Truck is a Car but with the additional behaviors. \n",
    "# Inherit the Car Class into Truck class and build the additional features. \n",
    "# Go through the comments in the prefilled code to implement the Car and Truck classes with the described attributes and methods. "
   ]
  },
  {
   "cell_type": "code",
   "execution_count": null,
   "metadata": {},
   "outputs": [],
   "source": [
    "# The output of the testcase Checking Default Tests is given by the \"default_test\" function in the prefilled code. \n",
    "\n",
    "# This coding question does not have the usual input/output testcases. The class defined by you will be tested internally whether the attributes are present or not.\n",
    "#  So in testcases results you will be shown the rough description of the tests that will be verified. \n",
    "\n",
    "# You can copy the implementation of Car class from the previous set and add new features on top of that code \n",
    "\n",
    "# Prefilled Code \n",
    "\n",
    "# Truck class should have the following attributes & methods \n",
    "# Old Attributes: \n",
    "\n",
    "#   color, max_speed, acceleration, tyre_friction, is_engine_started, current_speed \n",
    "\n",
    "# New Attributes: \n",
    "# max_cargo_weight, load \n",
    "# Old Methods: \n",
    "\n",
    "#   start_engine, stop_engine, accelerate, apply_brakes, sound_horn \n",
    "# Override Methods: \n",
    "\n",
    "#   sound_horn: \n",
    "\n",
    "#       - Print \"Honk Honk\" if truck engine is on \n",
    "\n",
    "#       - Print \"Car has not started yet\" if truck engine is off \n",
    "\n",
    "# New Methods: \n",
    "\n",
    "#   load_cargo: \n",
    "\n",
    "#       - This method will have an argument cargo_weight, denoting the weight to be loaded in the truck. \n",
    "\n",
    "#       - Truck can load some cargo within max_cargo_weight \n",
    "\n",
    "#       - When this method is called when the car engine is off, the  current_load of the truck \n",
    "\n",
    "#         should increase according to the  cargo_weight  passed as an argument to this method. \n",
    "\n",
    "#       - When this method is called when the car engine is on, print the message  \"Cannot load cargo during motion\" \n",
    "\n",
    "#       - When the cargo_weight is more than max_cargo_weight, \n",
    "\n",
    "#           print the message  \"Cannot load cargo more than max limit: {max_cargo_weight}\" \n",
    "\n",
    "#   unload_cargo: \n",
    "\n",
    "#       - This method will have an argument cargo_weight, denoting the weight to be unloaded from the truck. \n",
    "\n",
    "#       - Truck can unload amount of cargo_weight passed as an argument, only when the truck engine is off. \n",
    "\n",
    "#       - If the truck engine is on, print the message \"Cannot unload cargo during motion\" \n",
    "\n",
    "#       - Truck load can never go behind 0 \n",
    "# When a new Truck is created, the engine should be off by default and current_speed, load should be 0 \n",
    "# Implement the Car and Truck class appropriately \n",
    "\n",
    "# Inherit the Car class into Truck class and override the methods which have extra features "
   ]
  },
  {
   "cell_type": "code",
   "execution_count": 20,
   "metadata": {},
   "outputs": [
    {
     "name": "stdout",
     "output_type": "stream",
     "text": [
      "False\n",
      "Loaded 50 units of cargo.\n",
      "50\n",
      "Unloaded 25 units of cargo.\n",
      "25\n",
      "Cannot unload cargo more than what is loaded\n",
      "25\n",
      "Cannot load cargo more than max limit: 100\n",
      "Loaded 20 units of cargo.\n",
      "True\n",
      "Cannot load cargo during motion\n",
      "Cannot unload cargo during motion\n",
      "Honk Honk\n",
      "Truck has not started yet\n"
     ]
    }
   ],
   "source": [
    "class Car:\n",
    "    def __init__(self, color, max_speed, acceleration, tyre_friction, is_engine_started=False, current_speed=0):\n",
    "        self.color = color\n",
    "        self.max_speed = max_speed\n",
    "        self.acceleration = acceleration\n",
    "        self.tyre_friction = tyre_friction\n",
    "        self.is_engine_started = is_engine_started\n",
    "        self.current_speed = current_speed\n",
    "\n",
    "    def start_engine(self):\n",
    "        self.is_engine_started = True\n",
    "\n",
    "    def stop_engine(self):\n",
    "        self.is_engine_started = False\n",
    "\n",
    "    def accelerate(self):\n",
    "        self.acceleration=acceleration\n",
    "\n",
    "    def sound_horn(self):\n",
    "        pass\n",
    "\n",
    "\n",
    "class Truck(Car):\n",
    "    def __init__(self, color, max_speed, acceleration, tyre_friction, current_load=0, max_cargo_weight=1000):\n",
    "        super().__init__(color, max_speed, acceleration, tyre_friction)\n",
    "        self.is_engine_started = False\n",
    "        self.current_speed = 0\n",
    "        self.current_load = current_load\n",
    "        self.max_cargo_weight = max_cargo_weight\n",
    "\n",
    "    def sound_horn(self):\n",
    "        if self.is_engine_started:\n",
    "            print(\"Honk Honk\")\n",
    "        else:\n",
    "            print(\"Truck has not started yet\")\n",
    "\n",
    "    def load_cargo(self, cargo_weight):\n",
    "        if not self.is_engine_started:\n",
    "            if cargo_weight <= self.max_cargo_weight:\n",
    "                self.current_load += cargo_weight\n",
    "                print(f\"Loaded {cargo_weight} units of cargo.\")\n",
    "            else:\n",
    "                print(f\"Cannot load cargo more than max limit: {self.max_cargo_weight}\")\n",
    "        else:\n",
    "            print(\"Cannot load cargo during motion\")\n",
    "\n",
    "    def unload_cargo(self, cargo_weight):\n",
    "        if not self.is_engine_started:\n",
    "            if cargo_weight <= self.current_load:\n",
    "                self.current_load -= cargo_weight\n",
    "                print(f\"Unloaded {cargo_weight} units of cargo.\")\n",
    "                if self.current_load < 0:\n",
    "                    self.current_load = 0\n",
    "            else:\n",
    "                print(\"Cannot unload cargo more than what is loaded\")\n",
    "        else:\n",
    "            print(\"Cannot unload cargo during motion\")\n",
    "\n",
    "def default_test(): \n",
    "    truck = Truck(color=\"Red\", max_speed=250, acceleration=10, tyre_friction=3, max_cargo_weight=100) \n",
    "    print(truck.is_engine_started) \n",
    "    truck.load_cargo(cargo_weight=50) \n",
    "    print(truck.current_load)  # 0 + 50 => 50 \n",
    "    truck.unload_cargo(cargo_weight=25)  # Unloading cargo_weight 25 from the truck \n",
    "    print(truck.current_load)  # 50 - 25 => 25 \n",
    "    truck.unload_cargo(cargo_weight=70)  # Unloading cargo_weight 70 (more than load in the truck) \n",
    "    print(truck.current_load)  # 25 - 75 => 0 as load never be negative \n",
    "    truck.load_cargo(cargo_weight=120)  # Prints \"Cannot load cargo more than max limit: 100\" \n",
    "    truck.load_cargo(cargo_weight=20)  # Loading cargo_weight 20 to the truck \n",
    "    truck.start_engine() \n",
    "    print(truck.is_engine_started)  # True \n",
    "    truck.load_cargo(cargo_weight=40)  # Prints \"Cannot load cargo during motion\" \n",
    "    truck.unload_cargo(cargo_weight=10)  # Prints \"Cannot unload cargo during motion\" \n",
    "    truck.sound_horn()  # Prints \"Honk Honk\" \n",
    "    truck.stop_engine() \n",
    "    truck.sound_horn()  # Prints \"Car has not started yet\"\n",
    "default_test()\n"
   ]
  }
 ],
 "metadata": {
  "kernelspec": {
   "display_name": "Python 3",
   "language": "python",
   "name": "python3"
  },
  "language_info": {
   "codemirror_mode": {
    "name": "ipython",
    "version": 3
   },
   "file_extension": ".py",
   "mimetype": "text/x-python",
   "name": "python",
   "nbconvert_exporter": "python",
   "pygments_lexer": "ipython3",
   "version": "3.12.3"
  }
 },
 "nbformat": 4,
 "nbformat_minor": 2
}
