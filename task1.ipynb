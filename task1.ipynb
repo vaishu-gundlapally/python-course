{
 "cells": [
  {
   "cell_type": "code",
   "execution_count": 3,
   "metadata": {},
   "outputs": [
    {
     "name": "stdout",
     "output_type": "stream",
     "text": [
      "C++\n",
      "Go\n",
      "C\n"
     ]
    }
   ],
   "source": [
    "a=['Python', 'Java', 'Ruby', 'Move', 'C++', 'Go', 'C', 'R', 'Swift', 'perl'] \n",
    "n = int(input())\n",
    "while (n):\n",
    "  id=int(input())\n",
    "  print(a[id])\n",
    "  n-=1"
   ]
  },
  {
   "cell_type": "code",
   "execution_count": 4,
   "metadata": {},
   "outputs": [
    {
     "name": "stdout",
     "output_type": "stream",
     "text": [
      "[1, 2, 3] [5, 6, 7]\n"
     ]
    }
   ],
   "source": [
    "# Write a program to read N inputs and print a list containing the first and last three inputs. \n",
    "n=int(input())\n",
    "a=[]\n",
    "for i in range(n):\n",
    "  a.append(int(input()))\n",
    "print(a[:3],a[-3:])"
   ]
  },
  {
   "cell_type": "code",
   "execution_count": 1,
   "metadata": {},
   "outputs": [
    {
     "name": "stdout",
     "output_type": "stream",
     "text": [
      "not divisible\n",
      "divisible 5\n",
      "not divisible\n",
      "not divisible\n"
     ]
    }
   ],
   "source": [
    "#Given a number N , write a program that read N numbers and prints a list of numbers that are divisible by 5\n",
    "\n",
    "n=int(input())\n",
    "a=[]\n",
    "for i in range(n):\n",
    "  a.append(int(input()))\n",
    "  if a[i]%5==0:\n",
    "    print(\"divisible\",a[i])\n",
    "  else:\n",
    "    print(\"not divisible\")"
   ]
  },
  {
   "cell_type": "code",
   "execution_count": 2,
   "metadata": {},
   "outputs": [
    {
     "name": "stdout",
     "output_type": "stream",
     "text": [
      "[3, 4, 1, 2]\n",
      "[3, 4, 1, 2, 6, 2, 3, 4]\n"
     ]
    }
   ],
   "source": [
    "#Given a number N , write a program that reads N inputs and prints the list by adding a given N inputs at the end of the list L. \n",
    "n=int(input())\n",
    "a=[]\n",
    "for i in range(n):\n",
    "  a.append(int(input()))\n",
    "print(a)\n",
    "for i in range(n):\n",
    "  a.append(int(input()))\n",
    "print(a)"
   ]
  },
  {
   "cell_type": "code",
   "execution_count": 4,
   "metadata": {},
   "outputs": [
    {
     "name": "stdout",
     "output_type": "stream",
     "text": [
      "[1, 2, 3, 1, 2, 3]\n"
     ]
    }
   ],
   "source": [
    "#Create a list, Given a number N, write a program that prints the list by repeating the List N times. \n",
    "a=[1,2,3]\n",
    "n=int(input())\n",
    "r=a*n\n",
    "print(r)"
   ]
  },
  {
   "cell_type": "code",
   "execution_count": 7,
   "metadata": {},
   "outputs": [
    {
     "name": "stdout",
     "output_type": "stream",
     "text": [
      "[1, 2, 3]\n",
      "3\n",
      "2\n",
      "1\n"
     ]
    }
   ],
   "source": [
    "#Given N number, and an index, write a program to store the numbers in a list and print the number at the given index. For this problem, \n",
    "#each input will contain T test cases. Each test case will give an index Ki as input, which should be considered to print the number \n",
    "#Input: \n",
    "#The first line of input is an integer N \n",
    "#The second line of input is an integer T representing the number of test cases \n",
    "#The Next lines contains integers representing the numbers of list. \n",
    "#The next T lines contains integer Ki for each line. \n",
    "##You need to print a number in a new line for each of the K test cases. \n",
    "t=int(input())\n",
    "a=[]\n",
    "for i in range(t):\n",
    "    a.append(int(input()))\n",
    "print(a)\n",
    "while(t):\n",
    "    n=int(input())\n",
    "    print(a[n])\n",
    "    t=t-1"
   ]
  },
  {
   "cell_type": "code",
   "execution_count": null,
   "metadata": {},
   "outputs": [],
   "source": [
    "# looping"
   ]
  },
  {
   "cell_type": "code",
   "execution_count": null,
   "metadata": {},
   "outputs": [],
   "source": [
    "#Given two integers M and N , write a program to print the integers from M and N.\n",
    "m=int(input())\n",
    "n=int(input())\n",
    "for i in range(m,n+1):\n",
    "    print(i)"
   ]
  },
  {
   "cell_type": "code",
   "execution_count": null,
   "metadata": {},
   "outputs": [],
   "source": [
    "#Write a program that reads a number N and prints the average of N numbers from 1.\n",
    "#Ex: N=3 then avg: 3+2+1/3\n",
    "n=int(input())\n",
    "sum=0\n",
    "for i in range(1,n+1):\n",
    "  sum+=i\n",
    "\n",
    "avg=sum/n\n",
    "print(avg)"
   ]
  },
  {
   "cell_type": "code",
   "execution_count": null,
   "metadata": {},
   "outputs": [],
   "source": [
    "#Given two integers M and N , write a program to print a solid rectangle pattern  of M rows and N columns \n",
    "#using the hash character (#) \n",
    "m=int(input())\n",
    "n=int(input())\n",
    "for i in range(1,m+1):\n",
    "  for j in range(1,n+1):\n",
    "    print('#',end='')\n",
    "  print()"
   ]
  },
  {
   "cell_type": "code",
   "execution_count": null,
   "metadata": {},
   "outputs": [],
   "source": [
    "# Write Program that reads a number M and N and prints N numbers after M. \n",
    "m=int(input())\n",
    "n=int(input())\n",
    "for i in range(m+1,m+n+1):\n",
    "  print(i)"
   ]
  },
  {
   "cell_type": "code",
   "execution_count": null,
   "metadata": {},
   "outputs": [],
   "source": [
    "# Given an integer N , write a program which reads N inputs\n",
    "# and prints the sum of the given input number. \n",
    "n=int(input())\n",
    "s=0\n",
    "for i in range(1,n+1):\n",
    "  s+=int(input())\n",
    "  print(s)"
   ]
  },
  {
   "cell_type": "code",
   "execution_count": null,
   "metadata": {},
   "outputs": [],
   "source": [
    "# Write a program that reads a number N and \n",
    "#prints two Right Angled Triangles of N Rows , using numbers starting from 1. \n",
    "n=int(input())\n",
    "for i in range(1,n+1):\n",
    "  for j in range(1,i+1):\n",
    "    print(j,end='')\n",
    "  print()"
   ]
  },
  {
   "cell_type": "code",
   "execution_count": null,
   "metadata": {},
   "outputs": [],
   "source": [
    "#Write a program that reads a number N and prints the sum of squares of N numbers starting from 1\n",
    "n=int(input())\n",
    "sum=0\n",
    "for i in range(1,n+1):\n",
    "  sum+=i**2\n",
    "print(sum)\n"
   ]
  },
  {
   "cell_type": "code",
   "execution_count": null,
   "metadata": {},
   "outputs": [],
   "source": [
    "#In this problem, you need to write a program to calculate the electricity bill for a household, based on the units of electricity the household consumed. \n",
    "#The price for unit varies based on the slab. \n",
    "#The charges per unit for different slabs are as mentioned below: \n",
    "#For the first 50 units (0-50), the charge is 2/unit For the next 100 units (51-150), the charge is 3/unit For the next 100 units (151-250),\n",
    "# the charge is 5/unit For above 250 units (251 and above), the charge is 8/unit /\n",
    "#Apart from these charges, there is also an additional surcharge of 20% on the total amount is added to the bill. \n",
    "n=int(input())\n",
    "b=0\n",
    "if n<=50:\n",
    "  b=n*2\n",
    "elif n>50 and n<=150:\n",
    "  b=100*3+(n-50)*2\n",
    "elif n>150 and n<=250:\n",
    "  b=100*3+50*2+(n-150)*5\n",
    "elif n>250:\n",
    "  b=100*3+50*2+100*5+(n-250)*8\n",
    "t=b*1.2\n",
    "print(t)"
   ]
  },
  {
   "cell_type": "code",
   "execution_count": null,
   "metadata": {},
   "outputs": [],
   "source": [
    "#Write a program that reads an amount A and prints the minimum number of \n",
    "#500,50,10 and 1 rupee notes required for the given amount. \n",
    "\n",
    "n=int(input())\n",
    "t=0\n",
    "h=n//500\n",
    "n=n%500\n",
    "f=n//50\n",
    "n=n%50\n",
    "t=n//10\n",
    "n=n%10\n",
    "o=n\n",
    "tot=(h*500)+(f*50)+(t*10)+(o*1)\n",
    "print(tot)"
   ]
  },
  {
   "cell_type": "code",
   "execution_count": null,
   "metadata": {},
   "outputs": [],
   "source": [
    "# conditional"
   ]
  },
  {
   "cell_type": "code",
   "execution_count": null,
   "metadata": {},
   "outputs": [],
   "source": [
    "#Write a program that reads the students marks as input and prints PASS or FAIL.\n",
    "# If the student score more than 50, print PASS. \n",
    "n=int(input())\n",
    "if n>50:\n",
    "    print(\"PASS\")\n",
    "else:\n",
    "    print(\"FAIL\")"
   ]
  },
  {
   "cell_type": "code",
   "execution_count": null,
   "metadata": {},
   "outputs": [],
   "source": [
    "#Given the length of the box, check if it is a Rectangle or Square \n",
    "l=int(input())\n",
    "b=int(input())\n",
    "if l==b:\n",
    "    print(\"Square\")\n",
    "else:\n",
    "    print(\"Rectangle\")"
   ]
  },
  {
   "cell_type": "code",
   "execution_count": null,
   "metadata": {},
   "outputs": [],
   "source": [
    "#Write a Program that reads a temperature and checks if the given temperature is between 15 and 40. \n",
    "#print 'Can go for a Walk' if it is between 15 and 40. \n",
    "t=int(input())\n",
    "if t>15 and t<40:\n",
    "    print(\"Can go for a Walk\")"
   ]
  },
  {
   "cell_type": "code",
   "execution_count": null,
   "metadata": {},
   "outputs": [],
   "source": [
    "#Write a Program that reads the scores A and B of two players and checks if one of the scores is greater than 300 and the sum of the scores is less than 500. \n",
    "#Print 'Can Team Up' if one the scores is greater than 300 and the sum of the scores is less than 500, otherwise print 'Cannot Team Up' \n",
    "a=int(input())\n",
    "b=int(input())\n",
    "if (a>300 or b>300) and ((a+b)<500):\n",
    "    print(\"Can Team Up\")\n",
    "else:\n",
    "    print(\"Cannot Team Up\")"
   ]
  },
  {
   "cell_type": "code",
   "execution_count": null,
   "metadata": {},
   "outputs": [],
   "source": [
    "#Give three angles of a triangle, write a program to check whether the triangle is valid or not. \n",
    "n=int(input())\n",
    "m=int(input())\n",
    "l=int(input())\n",
    "if n+m+l==180:\n",
    "    print(\"True\")\n",
    "else:\n",
    "    print(\"False\")"
   ]
  },
  {
   "cell_type": "code",
   "execution_count": null,
   "metadata": {},
   "outputs": [],
   "source": [
    "#A company decided to give a bonus of 5% to an employee if his/her years of service is more than five years.\n",
    "# Write a program that reads an employee's salary and years of service and decides whether the employee gets the bonus or not. \n",
    "s=int(input())\n",
    "y=int(input())\n",
    "if y>5:\n",
    "    print(s*0.05)\n",
    "else:\n",
    "    print(0)"
   ]
  },
  {
   "cell_type": "code",
   "execution_count": null,
   "metadata": {},
   "outputs": [],
   "source": [
    "# Write a program that reads a two-digit number N and checks if any of the given conditions is satisfied \n",
    "#The sum of digits of N is equal to 7 \n",
    "# One of the digits of N is equal to 7 \n",
    "#N is divisible by 7 \n",
    "#Print \"Special Number if any of the given conditions is satisfied. Otherwise, print 'Normal Number' \n",
    "n=int(input())\n",
    "if n//10+n%10==7 or n%10==7 or n%7==0:\n",
    "    print(\"Special Number\")\n",
    "else:\n",
    "    print(\"Normal Number\")"
   ]
  },
  {
   "cell_type": "code",
   "execution_count": null,
   "metadata": {},
   "outputs": [],
   "source": [
    "#Write a Program that read a string S and checks if all the given conditions are satisfied \n",
    "#The first three characters of S is NXT \n",
    "#The remaining Characters of S contain a Number. Number is divisible by 2 or 7 \n",
    "#Print 'Special String' f any of the given conditions is satisfied. Otherwise, print 'Not a Special String' \n",
    "s=(input())\n",
    "if s.strip(s[:3])==\"NXT\" and (s[:]%2==0 or s[:]%7==0):\n",
    "  print('Special String')\n",
    "else:\n",
    "  print('Not a Special String')"
   ]
  },
  {
   "cell_type": "code",
   "execution_count": null,
   "metadata": {},
   "outputs": [],
   "source": [
    "#Write a program that reads two numbers A and B, and checks if sum of squares of A and B is greater than or equals to 60. \n",
    "a=int(input())\n",
    "b=int(input())\n",
    "if a**2+b**2>=60:\n",
    "    print(\"True\")\n",
    "else:\n",
    "    print(\"False\")"
   ]
  },
  {
   "cell_type": "code",
   "execution_count": null,
   "metadata": {},
   "outputs": [],
   "source": [
    "#Write a Program that read a number N and checks if the last digit of N is equal to the last digit of the square of N \n",
    "n=int(input())\n",
    "if n%10==n**2%10:\n",
    "    print(\"True\")\n",
    "else:\n",
    "    print(\"False\")"
   ]
  }
 ],
 "metadata": {
  "kernelspec": {
   "display_name": "Python 3",
   "language": "python",
   "name": "python3"
  },
  "language_info": {
   "codemirror_mode": {
    "name": "ipython",
    "version": 3
   },
   "file_extension": ".py",
   "mimetype": "text/x-python",
   "name": "python",
   "nbconvert_exporter": "python",
   "pygments_lexer": "ipython3",
   "version": "3.12.3"
  }
 },
 "nbformat": 4,
 "nbformat_minor": 2
}
